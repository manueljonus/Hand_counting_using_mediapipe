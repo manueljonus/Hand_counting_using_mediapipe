{
 "cells": [
  {
   "cell_type": "code",
   "execution_count": 7,
   "metadata": {},
   "outputs": [],
   "source": [
    "import cv2\n",
    "import mediapipe as mp\n",
    "\n",
    "mp_drawing = mp.solutions.drawing_utils\n",
    "mp_hands = mp.solutions.hands\n",
    "\n",
    "video = cv2.VideoCapture(0)\n",
    "hands = mp_hands.Hands(static_image_mode=False, max_num_hands=2, min_detection_confidence=0.7, min_tracking_confidence=0.5)\n",
    "\n",
    "while True:\n",
    "    success, image = video.read()\n",
    "    image = cv2.flip(image, 1)\n",
    "    imgrgb = cv2.cvtColor(image, cv2.COLOR_BGR2RGB)\n",
    "\n",
    "    cv2.rectangle(image, (20, 350), (160, 440), (150, 150, 150), cv2.FILLED)\n",
    "    cv2.rectangle(image, (20, 350), (160, 440), (222, 21, 14), 4)\n",
    "\n",
    "    results = hands.process(imgrgb)\n",
    "    total_finger_count = 0\n",
    "\n",
    "    if results.multi_hand_landmarks:\n",
    "        for hand_landmarks in results.multi_hand_landmarks:\n",
    "            finger_list = []\n",
    "            for id, lm in enumerate(hand_landmarks.landmark):\n",
    "                cx, cy = int(lm.x * image.shape[1]), int(lm.y * image.shape[0])\n",
    "                finger_list.append([id, cx, cy])\n",
    "\n",
    "            if len(finger_list) != 0 and len(finger_list) == 21:\n",
    "                tip_id = [4, 8, 12, 16, 20]\n",
    "                finger_count = 0\n",
    "\n",
    "                if finger_list[12][1] > finger_list[20][1]:\n",
    "                    if finger_list[tip_id[0]][1] > finger_list[tip_id[0] - 1][1]:\n",
    "                        finger_count += 1\n",
    "                else:\n",
    "                    if finger_list[tip_id[0]][1] < finger_list[tip_id[0] - 1][1]:\n",
    "                        finger_count += 1\n",
    "\n",
    "                for i in range(1, 5):\n",
    "                    if finger_list[tip_id[i]][2] < finger_list[tip_id[i] - 2][2]:\n",
    "                        finger_count += 1\n",
    "\n",
    "                total_finger_count += finger_count\n",
    "                # cv2.putText(image, str(finger_count), (30, 430), cv2.FONT_HERSHEY_COMPLEX, 6, (255, 0, 0), 3)\n",
    "\n",
    "            mp_drawing.draw_landmarks(image, hand_landmarks, mp_hands.HAND_CONNECTIONS)\n",
    "\n",
    "    cv2.putText(image, str(total_finger_count), (25, 430), cv2.FONT_HERSHEY_COMPLEX,3, (255, 0, 0), 3)\n",
    "\n",
    "    cv2.imshow(\"video\", image)\n",
    "    if cv2.waitKey(1) & 0xFF == ord(\"q\"):\n",
    "        break\n",
    "\n",
    "video.release()\n",
    "cv2.destroyAllWindows()\n"
   ]
  },
  {
   "cell_type": "code",
   "execution_count": null,
   "metadata": {},
   "outputs": [],
   "source": []
  }
 ],
 "metadata": {
  "kernelspec": {
   "display_name": "Python 3",
   "language": "python",
   "name": "python3"
  },
  "language_info": {
   "codemirror_mode": {
    "name": "ipython",
    "version": 3
   },
   "file_extension": ".py",
   "mimetype": "text/x-python",
   "name": "python",
   "nbconvert_exporter": "python",
   "pygments_lexer": "ipython3",
   "version": "3.9.1"
  },
  "orig_nbformat": 4
 },
 "nbformat": 4,
 "nbformat_minor": 2
}
